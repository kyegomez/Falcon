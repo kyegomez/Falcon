{
 "cells": [
  {
   "cell_type": "code",
   "execution_count": null,
   "metadata": {},
   "outputs": [],
   "source": [
    "!huggingface-cli login\n",
    "!pip3 install simple-falcon\n",
    "from falcon.main import Falcon\n",
    "\n",
    "\n",
    "falcon = Falcon(\n",
    "    temperature=0.5, \n",
    "    top_p=0.9, \n",
    "    max_new_tokens=500,\n",
    "    quantized=True,\n",
    "    system_prompt=\"Falcon:\"\n",
    ")\n",
    "\n",
    "prompt = \"What is the meaning of the collapse of the wave function?\"\n",
    "\n",
    "result = falcon.run(prompt=prompt)\n",
    "print(result)"
   ]
  }
 ],
 "metadata": {
  "language_info": {
   "name": "python"
  },
  "orig_nbformat": 4
 },
 "nbformat": 4,
 "nbformat_minor": 2
}
